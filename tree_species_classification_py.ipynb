{
  "nbformat": 4,
  "nbformat_minor": 0,
  "metadata": {
    "colab": {
      "provenance": [],
      "authorship_tag": "ABX9TyOEnkD1VLI5yL4KIU6fQbSo",
      "include_colab_link": true
    },
    "kernelspec": {
      "name": "python3",
      "display_name": "Python 3"
    },
    "language_info": {
      "name": "python"
    }
  },
  "cells": [
    {
      "cell_type": "markdown",
      "metadata": {
        "id": "view-in-github",
        "colab_type": "text"
      },
      "source": [
        "<a href=\"https://colab.research.google.com/github/Vaishnavi4018/tree_species_classification.py/blob/main/tree_species_classification_py.ipynb\" target=\"_parent\"><img src=\"https://colab.research.google.com/assets/colab-badge.svg\" alt=\"Open In Colab\"/></a>"
      ]
    },
    {
      "cell_type": "code",
      "execution_count": null,
      "metadata": {
        "id": "8BU0THUrL58C"
      },
      "outputs": [],
      "source": [
        "import pandas as pd\n",
        "import matplotlib.pyplot as plt\n",
        "from sklearn.tree import DecisionTreeClassifier\n",
        "from sklearn.model_selection import train_test_split\n",
        "from sklearn.metrics import accuracy_score\n",
        "\n",
        "# Load the dataset (replace 'tree_data.csv' with your downloaded dataset file)\n",
        "data = pd.read_csv('tree_data.csv')\n",
        "\n",
        "# Basic data exploration\n",
        "print(\"Dataset Head:\")\n",
        "print(data.head())\n",
        "print(\"\\nDataset Summary:\")\n",
        "print(data.describe())\n",
        "\n",
        "# Assuming columns: height, diameter, leaf_type, species (target)\n",
        "# Data cleaning\n",
        "data = data.dropna()\n",
        "print(\"\\nDataset after cleaning missing values:\")\n",
        "print(data.head())\n",
        "\n",
        "# Features and target\n",
        "X = data[['height', 'diameter', 'leaf_type']]\n",
        "y = data['species']\n",
        "\n",
        "# Split the data\n",
        "X_train, X_test, y_train, y_test = train_test_split(X, y, test_size=0.2, random_state=42)\n",
        "\n",
        "# Train a decision tree classifier\n",
        "model = DecisionTreeClassifier(random_state=42)\n",
        "model.fit(X_train, y_train)\n",
        "\n",
        "# Predict and evaluate\n",
        "y_pred = model.predict(X_test)\n",
        "accuracy = accuracy_score(y_test, y_pred)\n",
        "print(f\"\\nModel Accuracy: {accuracy:.2f}\")\n",
        "\n",
        "# Simple visualization (bar chart of species distribution)\n",
        "data['species'].value_counts().plot(kind='bar')\n",
        "plt.title('Tree Species Distribution')\n",
        "plt.xlabel('Species')\n",
        "plt.ylabel('Count')\n",
        "plt.show()\n",
        "\n",
        "# Summary of improvements\n",
        "print(\"\\nImprovements: Implemented data cleaning to handle missing values, added a decision tree classifier for species classification, and created a bar chart to visualize species distribution for better insight.\")"
      ]
    }
  ]
}